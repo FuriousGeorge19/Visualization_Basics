{
 "cells": [
  {
   "cell_type": "markdown",
   "metadata": {},
   "source": [
    "# Visualization Resources\n",
    "\n",
    "##### A collection of books, notebooks and web pages that have either helped me understand `matplotlib` and `Seaborn` or I want to use as reference material to create new plots more quickly and painlessly. *(Note: some of these are links that will only work on my local machine.)*\n",
    "\n",
    "- [Hands-On Data Analysis With Pandas - Chapter 5: Visualizing Data with Pandas and Matplotlib](https://read.amazon.com/?asin=B08R67H7F5&ref_=kwl_kr_iv_rec_1&language=en-US) (link to Chapter 5 in Kindle web reader) \n",
    "    - [My Notebooks (with my notes) for Chapter 5 on GitHub](https://github.com/FuriousGeorge19/Hands-On-Data-Analysis-with-Pandas-2nd-edition/tree/master/ch_05)\n",
    "    - [My Notebooks for Chapter 5 in Google Drive](https://drive.google.com/drive/folders/1yqIonMTndgwi-HAq-fusaoRGQ-kLw6Yu)       \n",
    "     \n",
    "     \n",
    "- [Hands-On Data Analysis With Pandas - Chapter 6: Plotting with Seaborn and Customization Techniques](https://read.amazon.com/?asin=B08R67H7F5&ref_=kwl_kr_iv_rec_1&language=en-US)\n",
    "    - [My Notebooks for Chapter 6 on GitHub](https://github.com/FuriousGeorge19/Hands-On-Data-Analysis-with-Pandas-2nd-edition/tree/master/ch_06)\n",
    "    - [My Notebooks for Chapter 6 in Google Drive](https://drive.google.com/drive/folders/1-1bLGlcQBKO62o5jW3bgYJDggl-lVvoR)\n",
    "        \n",
    "        \n",
    "- [Numerical Programming with Python](https://python-course.eu/numerical-programming/) (Course from python-course.eu, looks excellent and well-structured.)\n",
    "    - 11 of 38 sections in this course cover Matplotlib\n",
    "    - [PDF of entire Numerical Programming with Python course in Google Drive](https://python-course.eu/numerical-programming/)"
   ]
  },
  {
   "cell_type": "code",
   "execution_count": null,
   "metadata": {},
   "outputs": [],
   "source": []
  }
 ],
 "metadata": {
  "kernelspec": {
   "display_name": "Python 3",
   "language": "python",
   "name": "python3"
  },
  "language_info": {
   "codemirror_mode": {
    "name": "ipython",
    "version": 3
   },
   "file_extension": ".py",
   "mimetype": "text/x-python",
   "name": "python",
   "nbconvert_exporter": "python",
   "pygments_lexer": "ipython3",
   "version": "3.8.2"
  }
 },
 "nbformat": 4,
 "nbformat_minor": 4
}
