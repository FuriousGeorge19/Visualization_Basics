{
 "cells": [
  {
   "cell_type": "markdown",
   "metadata": {},
   "source": [
    "# Matplotlib Object Hierarchy"
   ]
  },
  {
   "cell_type": "markdown",
   "metadata": {},
   "source": [
    "<center><img src=\"images/pyramid.jpeg\" width=800 height=60 /></center>"
   ]
  },
  {
   "cell_type": "code",
   "execution_count": 1,
   "metadata": {
    "jupyter": {
     "source_hidden": true
    }
   },
   "outputs": [],
   "source": [
    "%matplotlib inline\n",
    "import matplotlib.pyplot as plt\n",
    "import numpy as np\n",
    "import pandas as pd\n",
    "\n",
    "fb = pd.read_csv(\n",
    "    'data/fb_stock_prices_2018.csv', index_col='date', parse_dates=True\n",
    ")\n",
    "covid = pd.read_csv('data/covid19_cases.csv').assign(\n",
    "    date=lambda x: pd.to_datetime(x.dateRep, format='%d/%m/%Y')\n",
    ").set_index('date').replace(\n",
    "    'United_States_of_America', 'USA'\n",
    ").sort_index()['2020-01-18':'2020-09-18']\n",
    "\n",
    "quakes = pd.read_csv('data/earthquakes.csv')"
   ]
  },
  {
   "cell_type": "markdown",
   "metadata": {},
   "source": [
    "Life is much, much easier in `matplotlib` if you understand its object hierarchy. \n",
    "\n",
    "These visualizations from [python-course.eu](https://python-course.eu/numerical-programming/matplotlib-object-hierarchy.php) show the relationship between the two uppermost objects in that hierarchy: the Figure object and the Axes *objects*.\n",
    "\n",
    "Quoting that site: _\"A matplotlib object is a tree-like structure of matplotlib objects which build a \"hierarchy\". The top of the tree-like structure of matplotlib objects is the ***figure*** object. A figure can be seen as the container which contains one or more plots. The plots are called ***axes*** in matplotlib jargon.\"_    \n",
    "\n",
    "The following diagram shows a figure with one axes:\n",
    "\n",
    "<center><img src=\"images/figure w one axes.png\" width=500 /></center>\n",
    "\n",
    "This is a little misleading, in that the figure 'container' shown here isn't actually displayed. (And, as far as I can tell, never is.) Only the axes object(s) are output.    \n",
    "\n",
    "This next example shows how a figure can contain multiple axes objects:\n",
    "\n",
    "<center><img src=\"images/figure w four axes.png\" width=500 /></center>\n",
    "\n",
    "This example shows some new objects such as `Axis`, `Spine`, `Tick`, `Tick Labels` and a `Line` plot. \n",
    "\n",
    "      \n",
    "<center><img src=\"images/figure w one axes plus more objects.png\" width=650 /></center>       \n",
    "\n",
    "\n",
    "\n",
    "All of these objects are 'child' objects associated with the 'Axes' plot area. \n",
    "\n",
    "It's important to distinguish **`Axes`** objects from the **`Axis`** objects, as the similarity can make it easy to confuse the two:\n",
    "\n",
    "- `Axes` are the overall plot areas. They are usually rectangular. \n",
    "\n",
    "- `Axis` refers to the X and Y Axis along the bottom and left side of the above plot. They establish the units for where on the plot objects like the `Line` are plotted. \n",
    "\n",
    "`Spine`s are simply the elements of the rectangular border. The primary decision with each of them is deciding whether or not each of them (there are four for the four sides of the box) should be displayed. The left `Axis` and left `Spline` overlap. (As do the bottom `Axis` and bottom `Spline`.) The left `Spline` determines if the solid line representing the left border of the plot area is displayed or not. That's separate fromn the `Axis` object that provides the scale (and which has `Ticks` and `Labels` associated with it. \n",
    "\n",
    "\n"
   ]
  },
  {
   "cell_type": "code",
   "execution_count": null,
   "metadata": {
    "jupyter": {
     "source_hidden": true
    }
   },
   "outputs": [],
   "source": []
  },
  {
   "cell_type": "markdown",
   "metadata": {},
   "source": [
    "Lastly, a more detailed plot with a large number of frequently used objects is shown below. (From the Matplotlib [documentation](https://matplotlib.org/stable/tutorials/introductory/quick_start.html))"
   ]
  },
  {
   "cell_type": "markdown",
   "metadata": {},
   "source": [
    "<center><img src=\"images/figure w one axes lots of objects.png\" width=700 /></center>\n",
    "\n",
    "The image above, from the matplotlib documentation, is useful because you can get a sense of how the object hierarchy works for particular elements. For example, `3` on the yaxis is referred to as ‘Major tick label’. The method used to format the major tick label is right below it: `ax.yaxis.set_major_formatter`.  \n",
    "\n",
    "- The whole plot is _named_ `ax` and is of type `axes`.\n",
    "- `ax.yaxis` is a `YAxis` subclass of an `axis` object.\n",
    "- `ax.yaxis.get_majorticklabels()` is a method of `ax.yaxis` that returns the major tick labels.\n",
    "\n",
    "___\n",
    "\n",
    "### Creating `figure` and `axes` objects\n",
    "\n",
    "An easy way to create a figure alone is:"
   ]
  },
  {
   "cell_type": "code",
   "execution_count": 8,
   "metadata": {},
   "outputs": [
    {
     "data": {
      "text/plain": [
       "<Figure size 432x288 with 0 Axes>"
      ]
     },
     "metadata": {},
     "output_type": "display_data"
    }
   ],
   "source": [
    "fig = plt.figure()"
   ]
  },
  {
   "cell_type": "code",
   "execution_count": 9,
   "metadata": {},
   "outputs": [
    {
     "name": "stdout",
     "output_type": "stream",
     "text": [
      "<class 'matplotlib.figure.Figure'>\n"
     ]
    }
   ],
   "source": [
    "print(type(fig))"
   ]
  },
  {
   "cell_type": "markdown",
   "metadata": {},
   "source": [
    "This isn't terribly useful. You have a figure object, but they aren't worth much without an `axes` object. "
   ]
  },
  {
   "cell_type": "code",
   "execution_count": 10,
   "metadata": {},
   "outputs": [
    {
     "name": "stdout",
     "output_type": "stream",
     "text": [
      "Visualization-1 | Useful Resources.ipynb\n",
      "Visualization-2 | Matplotlib Object Hierarchy.ipynb\n",
      "\u001b[34mdata\u001b[m\u001b[m\n",
      "\u001b[34mimages\u001b[m\u001b[m\n"
     ]
    }
   ],
   "source": [
    "!ls"
   ]
  },
  {
   "cell_type": "code",
   "execution_count": 11,
   "metadata": {},
   "outputs": [
    {
     "name": "stdout",
     "output_type": "stream",
     "text": [
      "zsh:1: no such file or directory: ../ls../\n"
     ]
    }
   ],
   "source": [
    "!../ls../"
   ]
  },
  {
   "cell_type": "code",
   "execution_count": null,
   "metadata": {},
   "outputs": [],
   "source": []
  }
 ],
 "metadata": {
  "kernelspec": {
   "display_name": "Python 3",
   "language": "python",
   "name": "python3"
  },
  "language_info": {
   "codemirror_mode": {
    "name": "ipython",
    "version": 3
   },
   "file_extension": ".py",
   "mimetype": "text/x-python",
   "name": "python",
   "nbconvert_exporter": "python",
   "pygments_lexer": "ipython3",
   "version": "3.8.2"
  }
 },
 "nbformat": 4,
 "nbformat_minor": 4
}
