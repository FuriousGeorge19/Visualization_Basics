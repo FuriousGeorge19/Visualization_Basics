{
 "cells": [
  {
   "cell_type": "markdown",
   "metadata": {},
   "source": [
    "# Manipulating Figure and Axes Objects"
   ]
  },
  {
   "cell_type": "markdown",
   "metadata": {},
   "source": [
    "## Datasets and package imports"
   ]
  },
  {
   "cell_type": "code",
   "execution_count": 13,
   "metadata": {
    "tags": [
     "hide-input"
    ]
   },
   "outputs": [],
   "source": [
    "\n",
    "%matplotlib inline\n",
    "\n",
    "import matplotlib.pyplot as plt\n",
    "import numpy as np\n",
    "import pandas as pd\n",
    "\n",
    "fb = pd.read_csv(\n",
    "    'data/fb_stock_prices_2018.csv', index_col='date', parse_dates=True\n",
    ")\n",
    "covid = pd.read_csv('data/covid19_cases.csv').assign(\n",
    "    date=lambda x: pd.to_datetime(x.dateRep, format='%d/%m/%Y')\n",
    ").set_index('date').replace(\n",
    "    'United_States_of_America', 'USA'\n",
    ").sort_index()['2020-01-18':'2020-09-18']\n",
    "\n",
    "quakes = pd.read_csv('data/earthquakes.csv')\n",
    "\n"
   ]
  },
  {
   "cell_type": "markdown",
   "metadata": {},
   "source": [
    "An easy way to create a `figure` object on a standalone basis is:"
   ]
  },
  {
   "cell_type": "code",
   "execution_count": 10,
   "metadata": {},
   "outputs": [
    {
     "data": {
      "text/plain": [
       "<Figure size 432x288 with 0 Axes>"
      ]
     },
     "metadata": {},
     "output_type": "display_data"
    }
   ],
   "source": [
    "fig = plt.figure()"
   ]
  },
  {
   "cell_type": "code",
   "execution_count": null,
   "metadata": {},
   "outputs": [],
   "source": [
    "print(type(fig))"
   ]
  },
  {
   "cell_type": "markdown",
   "metadata": {},
   "source": [
    "This isn't terribly useful. You have a `figure` object, but it's just an empty shell without an `axes` object associated with it.   \n",
    "\n",
    "An `axes` object can be added to a `figure` object:"
   ]
  },
  {
   "cell_type": "code",
   "execution_count": null,
   "metadata": {},
   "outputs": [],
   "source": [
    "fig = plt.figure()\n",
    "fig.add_axes([0.1, 0.1, 0.9, 0.9])"
   ]
  },
  {
   "cell_type": "markdown",
   "metadata": {},
   "source": [
    "The arguments to `add_axes` passed, from `help(fig.add_axes)`:\n",
    "\n",
    "`rect : tuple (left, bottom, width, height)\n",
    "        The dimensions (left, bottom, width, height) of the new Axes. All\n",
    "        quantities are in fractions of figure width and height.`\n",
    "        \n",
    "<span style=\"color: green;\"> **Also, note that it's best to put all the code for a single visualization in a single code cell.</span>.**\n",
    "\n",
    "In practice, creating an empty figure isn't the normal practice. It was done to highlight the distinction between the `figure` and `axes` objects. The most common way to start a plot is with this, rather unintuitive and inelegant command:"
   ]
  },
  {
   "cell_type": "code",
   "execution_count": null,
   "metadata": {},
   "outputs": [],
   "source": [
    "fig, axes = plt.subplots()"
   ]
  },
  {
   "cell_type": "code",
   "execution_count": null,
   "metadata": {},
   "outputs": [],
   "source": [
    "print(type(fig), '\\n\\n', type(axes))"
   ]
  },
  {
   "cell_type": "markdown",
   "metadata": {},
   "source": [
    "When called with the default arguments; (nrows = 1, ncolumns = 1), `plt.subplots()` returns a tuple, with a `figure` object in the first position and an `axes` object in the second. Having each of these objects is useful as we can build plots out by taking advantage of each of their attributes and methods. "
   ]
  },
  {
   "cell_type": "code",
   "execution_count": null,
   "metadata": {},
   "outputs": [],
   "source": [
    "fig, axes = plt.subplots(1, 2)"
   ]
  },
  {
   "cell_type": "code",
   "execution_count": null,
   "metadata": {},
   "outputs": [],
   "source": [
    "print(type(fig), '\\n\\n', type(axes))"
   ]
  },
  {
   "cell_type": "markdown",
   "metadata": {},
   "source": [
    "When `plot.subplots` is passed a number of rows and columns that will result in multiple subplots, it will return a numpy array of `axes` objects, each of which can be referenced, augmented and manipulated through subscripting. "
   ]
  },
  {
   "cell_type": "code",
   "execution_count": null,
   "metadata": {},
   "outputs": [],
   "source": [
    "axes.shape"
   ]
  },
  {
   "cell_type": "code",
   "execution_count": null,
   "metadata": {},
   "outputs": [],
   "source": [
    "axes[0], axes[1]"
   ]
  },
  {
   "cell_type": "markdown",
   "metadata": {},
   "source": [
    "As an example, we leverage the `plot` method of each `axes` object below to plot Facebook's daily trade volume and closing price, respectively. \n",
    "\n",
    "Not also that we can manipulate the size of the figure by specifying the `figsize` argument with a tuple in inches of (width, height)."
   ]
  },
  {
   "cell_type": "code",
   "execution_count": null,
   "metadata": {},
   "outputs": [],
   "source": [
    "fig, axes = plt.subplots(1, 2, figsize=(10,4))\n",
    "axes[0].plot(fb.volume)\n",
    "axes[1].plot(fb.close)"
   ]
  },
  {
   "cell_type": "markdown",
   "metadata": {},
   "source": [
    "## Pandas `plot()` \n",
    "\n",
    "Pandas `DataFrame` and `Series` objects have a `plot()` function that provides a convenient subset of Matplotlib's functionality. We won't fully explore Pandas' `plot()` functionality here, but one consideration when working with `plot()` is to make sure to capture the `axes` object returned by `plot()` to have the ability to continue to customize the plot to your needs. For example:"
   ]
  },
  {
   "cell_type": "code",
   "execution_count": null,
   "metadata": {},
   "outputs": [],
   "source": [
    "ax = fb.plot(kind='line', y = ['open', 'high'])\n",
    "ax.set_title(\"Facebook's Open and High Pricing, Jan-2018 to Jan-2019\")"
   ]
  },
  {
   "cell_type": "markdown",
   "metadata": {},
   "source": [
    "In the example above, by capturing the `axes` object returned and stored in the `ax` variable, we have the ability to set the title after the `plot()` call is made. This is a little artificial, in that the Pandas `plot()` call takes `title` as an argument. Nevertheless, there are situations where `plot()` doesn't support some plotting options that Matplotlib provides or that it's easier to do with Matplotlib's base capabilities."
   ]
  },
  {
   "cell_type": "markdown",
   "metadata": {},
   "source": [
    "Unlike `plt.subplots()`, the Pandas `plot()` method only returns an `axes` object or a numpy array of them. It doesn't return a `figure` object. One practical example where one might need this is to save a plot as an image using `figure.savefig()`. To get the `figure` object associated with an `axes` object you can make use `ax.get_figure()`."
   ]
  },
  {
   "cell_type": "code",
   "execution_count": null,
   "metadata": {},
   "outputs": [],
   "source": [
    "ax = fb.plot(kind='line', y = ['open', 'high'])\n",
    "ax.set_title(\"Facebook's Open and High Pricing, Jan-2018 to Jan-2019\")\n",
    "fig = ax.get_figure()\n",
    "fig.savefig('temp.jpg')"
   ]
  },
  {
   "cell_type": "markdown",
   "metadata": {},
   "source": [
    "## Arranging Subplots"
   ]
  },
  {
   "cell_type": "code",
   "execution_count": null,
   "metadata": {},
   "outputs": [],
   "source": [
    "fig = plt.figure(figsize=(10, 8))\n",
    "fig.add_subplot(331)\n",
    "fig.add_subplot(339)"
   ]
  },
  {
   "cell_type": "code",
   "execution_count": null,
   "metadata": {},
   "outputs": [],
   "source": []
  },
  {
   "cell_type": "markdown",
   "metadata": {},
   "source": [
    "Add next:\n",
    "- pandas.plot\n",
    "- gridspec\n",
    "- the other layout method\n",
    "- mention figsize\n",
    "- savefig\n"
   ]
  },
  {
   "cell_type": "code",
   "execution_count": null,
   "metadata": {},
   "outputs": [],
   "source": []
  },
  {
   "cell_type": "code",
   "execution_count": null,
   "metadata": {},
   "outputs": [],
   "source": []
  }
 ],
 "metadata": {
  "kernelspec": {
   "display_name": "Python 3",
   "language": "python",
   "name": "python3"
  },
  "language_info": {
   "codemirror_mode": {
    "name": "ipython",
    "version": 3
   },
   "file_extension": ".py",
   "mimetype": "text/x-python",
   "name": "python",
   "nbconvert_exporter": "python",
   "pygments_lexer": "ipython3",
   "version": "3.8.2"
  }
 },
 "nbformat": 4,
 "nbformat_minor": 4
}
